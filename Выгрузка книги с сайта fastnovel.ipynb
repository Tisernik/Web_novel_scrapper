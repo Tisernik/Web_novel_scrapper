{
 "cells": [
  {
   "cell_type": "code",
   "execution_count": 17,
   "metadata": {},
   "outputs": [],
   "source": [
    "# Подключаем библиотеки\n",
    "import requests \n",
    "import numpy as np\n",
    "import io\n",
    "import os\n",
    "from bs4 import BeautifulSoup\n",
    "from FB2 import FictionBook2, Author\n",
    "from urllib import request\n",
    "import time, sys\n",
    "from IPython.display import clear_output"
   ]
  },
  {
   "cell_type": "code",
   "execution_count": 18,
   "metadata": {},
   "outputs": [],
   "source": [
    "# Указываем страницу книги\n",
    "# novel_link = 'https://freewebnovel.com/invincible-novel.html'\n",
    "novel_link = 'https://freewebnovel.com/star-odyssey.html'\n",
    "\n",
    "# !!! Переменная либо для всех, либо для N последних, либо K первых глав"
   ]
  },
  {
   "cell_type": "code",
   "execution_count": 20,
   "metadata": {},
   "outputs": [],
   "source": [
    "# Получаем html-текст страницы\n",
    "r = requests.get(novel_link)\n",
    "html_text = r.text\n",
    "soup = BeautifulSoup(html_text,'html.parser')\n",
    "\n",
    "# Вырезаем часть, в которой находятся ссылки на главы \n",
    "# при этом указаны ссылки не полностью, а только хвост, например \"...href=\"/invincible-novel/chapter-1.html...\"\n",
    "a = soup.find_all(\"ul\", class_=\"ul-list5\")\n",
    "soup2 = BeautifulSoup(str(a),'html.parser')\n",
    "\n",
    "# Получение хвостов ссылок на главы книги\n",
    "soup_links = soup2.find_all(\"a\", class_=\"con\")\n",
    "\n",
    "# Проверка:\n",
    "#soup_links[0].get('href')"
   ]
  },
  {
   "cell_type": "code",
   "execution_count": 25,
   "metadata": {},
   "outputs": [
    {
     "data": {
      "text/plain": [
       "<!DOCTYPE html>\n",
       "<html lang=\"en-US\"><head><title>Just a moment...</title><meta content=\"text/html; charset=utf-8\" http-equiv=\"Content-Type\"/><meta content=\"IE=Edge\" http-equiv=\"X-UA-Compatible\"/><meta content=\"noindex,nofollow\" name=\"robots\"/><meta content=\"width=device-width,initial-scale=1\" name=\"viewport\"/><style>*{box-sizing:border-box;margin:0;padding:0}html{line-height:1.15;-webkit-text-size-adjust:100%;color:#313131;font-family:system-ui,-apple-system,BlinkMacSystemFont,Segoe UI,Roboto,Helvetica Neue,Arial,Noto Sans,sans-serif,Apple Color Emoji,Segoe UI Emoji,Segoe UI Symbol,Noto Color Emoji}body{display:flex;flex-direction:column;height:100vh;min-height:100vh}.main-content{margin:8rem auto;max-width:60rem;padding-left:1.5rem}@media (width <= 720px){.main-content{margin-top:4rem}}.h2{font-size:1.5rem;font-weight:500;line-height:2.25rem}@media (width <= 720px){.h2{font-size:1.25rem;line-height:1.5rem}}#challenge-error-text{background-image:url(data:image/svg+xml;base64,PHN2ZyB4bWxucz0iaHR0cDovL3d3dy53My5vcmcvMjAwMC9zdmciIHdpZHRoPSIzMiIgaGVpZ2h0PSIzMiIgZmlsbD0ibm9uZSI+PHBhdGggZmlsbD0iI0IyMEYwMyIgZD0iTTE2IDNhMTMgMTMgMCAxIDAgMTMgMTNBMTMuMDE1IDEzLjAxNSAwIDAgMCAxNiAzbTAgMjRhMTEgMTEgMCAxIDEgMTEtMTEgMTEuMDEgMTEuMDEgMCAwIDEtMTEgMTEiLz48cGF0aCBmaWxsPSIjQjIwRjAzIiBkPSJNMTcuMDM4IDE4LjYxNUgxNC44N0wxNC41NjMgOS41aDIuNzgzem0tMS4wODQgMS40MjdxLjY2IDAgMS4wNTcuMzg4LjQwNy4zODkuNDA3Ljk5NCAwIC41OTYtLjQwNy45ODQtLjM5Ny4zOS0xLjA1Ny4zODktLjY1IDAtMS4wNTYtLjM4OS0uMzk4LS4zODktLjM5OC0uOTg0IDAtLjU5Ny4zOTgtLjk4NS40MDYtLjM5NyAxLjA1Ni0uMzk3Ii8+PC9zdmc+);background-repeat:no-repeat;background-size:contain;padding-left:34px}@media (prefers-color-scheme:dark){body{background-color:#222;color:#d9d9d9}}</style><meta content=\"390\" http-equiv=\"refresh\"/></head><body class=\"no-js\"><div class=\"main-wrapper\" role=\"main\"><div class=\"main-content\"><noscript><div class=\"h2\"><span id=\"challenge-error-text\">Enable JavaScript and cookies to continue</span></div></noscript></div></div><script>(function(){window._cf_chl_opt={cvId: '3',cZone: \"freewebnovel.com\",cType: 'managed',cRay: '8f2f4d546d8fbbbf',cH: 'Si9WxULTFLGxNKckEM1NuM0RsOlGnjuE77l.guAdvmY-1734358700-1.2.1.1-5Yc0zYiWNX3xOXu.AiKOQmr4x_o72UupaCl16q3mgWytRl4NwVBMVJbIhjRriABD',cUPMDTk: \"\\/star-odyssey.html?__cf_chl_tk=WG2N9FyuGU6bXvJJ21Gslt.RvbvzabDVKZx..Fr2Hw0-1734358700-1.0.1.1-SX2GWmLiIK8ruFux0D_gJ9jQj_8Ik4JBN3jEfgF5Fkw\",cFPWv: 'g',cITimeS: '1734358700',cTTimeMs: '1000',cMTimeMs: '390000',cTplC: 0,cTplV: 5,cTplB: 'cf',cK: \"\",fa: \"\\/star-odyssey.html?__cf_chl_f_tk=WG2N9FyuGU6bXvJJ21Gslt.RvbvzabDVKZx..Fr2Hw0-1734358700-1.0.1.1-SX2GWmLiIK8ruFux0D_gJ9jQj_8Ik4JBN3jEfgF5Fkw\",md: \"xiIR86Ew3TZ3ABmrIovSQSoECjG2K.prc6RYNFW_4Qw-1734358700-1.2.1.1-SAqW2ZGSBbMQpnta3kiHfb5Qeu8jcjLGA2ZdsQYd9.EvRzYzesA67xBk0cWzaw1bis.GjFPOJMbyO8EbYMSdAhL2c5CADRSCSXxkUFtJjdirU6h.m2i6PBaX_BcGcdRWl_i3jctBQMLnwcMiPj.nYkJBzOVbW.P_sVHIxH4KmS3jlUXUhcL1ih3uf79DnmajP0Sl2fp7yYRnZxVd9rdvECQRblDE.I07tQ05gYTJQrkbhkAXEu5JjhC2rMeZx.nRRLt88qygIDxuiPgTpLC4dKUjylozjgzS2F1e1.VxV1KEfdzu4.wbBOYkuL7ygFqwjzYixNeEZmQViNKmvGFKqAbmUjwrFv1Lte.feafzDObTBmYxlm0OyD65zph6xOgurFMXU_O8vJiO_fPAnxjjAOawA0Jlor40BXwNSa3Krg28wQSUmezmmC8PNQytcqGTyBh181h90btsbN5YLJEm2UE206w3ZcctzrLFLocC6q6208EVtCzN.NemKDiAePVc98gBEBaAIegDEhohrXBOd4duqM2JScv.Di7LN7HYCfAt_CKtTveHpFYe_Z7FSIQnwsE3bddrbszmQf.h76ideh8datEQrFTYAuUlfyocgi7QwfRrV.9iwUVWFXeT4TXDc4TqLHkHkTSIzjogh._T2zocjXKY5.5bCIyhJRSjDVDFDNYCoDDM2S9H6hik2pHRjNr7.3nJ9v45XUiKJuANUsoGA4zTqhBUjpxtvEeIxhp9SopT9SEI7mXKqM8xMTEPoip62f0aZwDsDYmD0dbNix6kf5ckGBfVriSysW1EYpzTSpDl_WAxm0VKnAXF4oiwQ6QHImgELkk3GQ5xmzWhhJ8i7V0d5ngJ.gnVCa8U.UqfGIUmDa9cVwExWlZ_0PdhboI5m1MS4UbHQyTPW8RP0iO.1afrpjL6u1_h.NfONSVmZFSpki_r00tMgXhhdiA6G4HLkRXq_E35yPdc228vQKLXh1LsDjLwu9WDTGl7vlRlVI0r_WvUrOIJRGkpgWBlSr3qXC.GfVhH8Vv3Wyt32jmZBDuYq.8UWOdLb80AEMBXzvYG9GYbnGaiam23lEw.vLshGdmct5nzOVW7r6bunn.g0i_m5iNHLQMxjMAlXdjoBiN4DZ3eJSDrBK6NfnjAag.ssdS6YQPxEBV3N0.MnQg04C1wFkX3Tszm64cGo3R_tejhesJY1bl4lWTRI8QmAFVFmkLhVuFDeT0JkziHTiyvQ1I.lhCsHkDZlihyHaiKUoeZIKQbW4FBZUQh0HInfh6MYkCX0lTM.blPUVpDd1DOFFulkiXqPiNuBNyW6y8943OFcCCkYCZUXbuRmWRfFi7zw5V3doJJ4J1xtrHXO23sSoNQdMUyQ8fLNnvhAIti0UGbYVi7R8S0HuJOXh1RkigEGFUzw_bmi16DUr7qqTRB3ZsjWzGW2YBFfU_aGIGAmaff2VWBmjqXin3k8Fhials2cSEURE2KRJSL0yp7XzQCF1ndac48K.wtvbbzFUCKIg_6H6CVGoq1wj54sVtoRSZ6BFK9WAkq.Q2lMiuJIqiWbApU_ZpwdwUSN9WyXlvadEM2baYi1jUPlB2RylzL7Ub_7akpmW7gIPwUJ5cS9o.Wud0vqBwpeuDT6Wz2RpFGUWex5gn8XJUE6GhfjnbID_yNY.VS4bVnEh08xz5rQ1OlBYpz1tpbDfO0pcC89y0ELGLrp.eMw_rsW9mYvNPZg.XHWBv4UXrUjlLb9_WE.j3nKavZ2q4oMnhwL6.zCPdB0iNcaCnjVV_DbkiCEwa82a1e.h4EhpEmly5p2ucCJFwlMoLjgPZFETJuxwI3qFFdG4vyk5YKyWIo1Zj2c6TOtvD4eVcAjRiY.1aii1g.DcYKPCfThn3XBCxgCygwpX9n6zXsY3cOQzRWzXpTI4WAJJmC8LPALXjt9Z2hgK5zkJn0h_L9310kHvInHEfX6qXtjghxlUQogRRYQoVmLgdnPP9wnsC4bmCbGl.8au_BNboIhuEHgKLiEp.Sostd_TxzZXgUDihXjOm_xCyqTOHFBwaIloPg8muo44dDs2hoq_kF_WXbimV98mbfsi60CieQBmulbF2APsk5_k64iswdzHOxNI6PW59cdaldq1.ncDGahnU4kHDoz03Df71ygYjPVNn69JH1SWTTqVZwPhz3HsH9Wp_c5jfyH5P.a72PyCmy7Kru4P6_bT_5TcnQIc8Y5umj5cbUksdEGM2DT_JnJ6K.kQilzxRDk584Ud8esGy98wq_f_eDcIZwBoQX0ukDOe8Hj1lIZ1VQD3JGz2bB\",mdrd: \"iZJlaXGGvNoU9xNzvaVcGystTCZUrqpiamIXNhww2iQ-1734358700-1.2.1.1-ZiAoiakBfCCVVbwLxTGtmvC.XJLAln.ZQyr16pTEQIaOxfXpxB_Z04hJUoaAZhfMqLY.3cHNNysPTxaoP73uPoalPLR0DiQeem_556L9BSjAE3aVmlkl.lIkBAM1xUZPSQdx.ZM7eKZaB3nWlkAfbzpAW441wjNwOVwOqGkdDgwsMTJwamWICUURWcsiqQ2PQZC86NfN.8rLmd71cFK.h8wdHuahWaxBX_2lvVm47BDR.Zrwk3cgZuzy7WKBdQ5JA_RO6p.hPrXaXTyQt4uwxhR1KMhirwsOWgfPxTGm2LO2I1LlLdddO55xVivonuMaI3IMfR6I5yC.BLXbgz6Fupcu7G5K8nDg5aD.QVKg.e3ZGn52gf8sbGTCY1qwpKhqmhHwBXbPiNrI3ZjhFPhx5pVeNaw0edR_If63jhlzgbUHKmbi4oVlvVuhcLzu2xtH3BWQK0ELf3qx_XV.q5QpizspNVDrqU_bCyKxbOAYLb9BEN.itWH_ofUCVTTx8zaoRyxCCL.sRgNjadGWZ2ytG6ZGH0mJnipNT0PM1tovtWgqw7aiZlJsxZKQ2os_Uu_zI1_kxCATe4oJjsqpeDTee9VQIf8tU3yl5y.HeZQJ1GzCutPxTdn8tduCBRvsq70vL_Cb5rYyO_Xrd_B0MvPx7W8tP9Aur9PGIer.MmLa9gS8Bggi9igOQ7YPcJE3mSRam.H2rGCQ5TNFbCmsc5ZUrBiiyQpk3xbwaXPO0HimkkFgb52UXP9xdoq9xc0j7Mk3AQM8bc5IF1M22xQpir7CID4XTKg6k4oAElJoRbaVXSL0JtUvXYIwmRphnxhGcDsNc9p80pxt_Lxowz82TrHWIAaIIMM2L07I0gCzTh3lyhVu6uppivJq.dE1anf8dlNuf9Fygo4VQejChmaFWxA6eDnM10qY4n_hasBZvQTl7pfxEq4Pp5t.fnqAYtd3TxH03C15d36N9S7j.pDU47m1Zn_YzzY1mnWn3zRfLXsThps5CRh5UlZXiy_w7rrpAxLnZQe.aDivmKRcS9N97sTU.8BXCf_rk50dU0xx8IE9NGXlqhUNdZec_eYE8VBwhURchDmQbHzNb4wAO6lym0llMeAQicEJOQ5woP8w5k6RRfJO_zksGhJWjAbz.a3414AVUduclh1HSd2H6IncxKmCXvZ.xKIk575Xw82VqMokemsj8MngnmSk_1mjQ9GKuwD6NR9tRz9iNQyWwtM2AAREsy9PY2bGzCM28Y5ygVgUpGUbZ27INlhBIFofaU.fgUPfgxnpu2DmNT69i1aXg46cNzzjWMFXPTZM8B_RnVMy2wdjGAUDGVUga0KzFUpOG_vs9TsTA1uytPsDRuV2iN2bkMCuQBCIjw57EEurp6Nmun0mvLNxBBzPyhouQoK2kUwgNVrsD684iNRTWYqbhvDfs9kNSEZ1_PnKGQYVmwyH2VniI6v_jnsV5QcDYmRz2KMkM9LFdvr27HQx2En2BJf5GsAVINgMpIMD6JglEDgpBoigwuTZ8T2EkLcsq_Bdqdfx79J3zMZ1KwY2f5T0gjOX3lQ9LPnnfFtuCxoaX7bQBQ8vE8j4c_Y8DNan1XZvfgHzCf9N0SC6srQwQjnVX4Ra.Cf3YcDyRzxbZKVJKhrLEnNnYdJBqN_2NrxViR1acvtwDIHoBs0QZn.Px1ae0UyiCfJ6BIMGRDi9YfnM.J4uswtSIlNwqGFIJI3T.2vaHXvMtEHivWiirNK9cHHy.90oxtBS.weeuJXo2ECDphPAuBvmtASbpJeaIKxk5JloniVr6NmbndlGDTmMgIm0W5l48W5K0ER6YJQc6xFP92qkheM2tjvJI9QP.QvWypSagb07_Dl9tBxvNUMbkTsAyjmevOtjjlFnuoSOBVbq2D51clw_DurCT.yWhUAuHysT1xTDzcbimtONl0yoLywhVuEUJs8yj0LDlnovC1GtqSE0wg4twL3HMhYkIwJwuowKijqYoVEoX816MEnd5s_IP37RFV4orKNz.Y2XDRjezqn0vPf9QlJzYp18KawsXjfWoUwzetTt.uQNGzd9n.PC0P8FYqaq1wWE2TIsX5c7.yL1bEs4Hc.73f0SfoHxrvLGZQS_aSYC.Er1jgxTSY7.CD4Eq1y9Zc6NLjZSVMWZrcXjor5a9Trnh7NjYRjv2f3rcrB.AZthtSgp42oXxxlO3ALvpy8KC1cTXc3dM9IjmZL9I9LsNlaUZo.oJCBGL90zGv3pl86TJ.IeVFGyRWXwL9M1zMyznzN_a17.Y0_RlHHjRKc\"};var cpo = document.createElement('script');cpo.src = '/cdn-cgi/challenge-platform/h/g/orchestrate/chl_page/v1?ray=8f2f4d546d8fbbbf';window._cf_chl_opt.cOgUHash = location.hash === '' && location.href.indexOf('#') !== -1 ? '#' : location.hash;window._cf_chl_opt.cOgUQuery = location.search === '' && location.href.slice(0, location.href.length - window._cf_chl_opt.cOgUHash.length).indexOf('?') !== -1 ? '?' : location.search;if (window.history && window.history.replaceState) {var ogU = location.pathname + window._cf_chl_opt.cOgUQuery + window._cf_chl_opt.cOgUHash;history.replaceState(null, null, \"\\/star-odyssey.html?__cf_chl_rt_tk=WG2N9FyuGU6bXvJJ21Gslt.RvbvzabDVKZx..Fr2Hw0-1734358700-1.0.1.1-SX2GWmLiIK8ruFux0D_gJ9jQj_8Ik4JBN3jEfgF5Fkw\" + window._cf_chl_opt.cOgUHash);cpo.onload = function() {history.replaceState(null, null, ogU);}}document.getElementsByTagName('head')[0].appendChild(cpo);}());</script></body></html>"
      ]
     },
     "execution_count": 25,
     "metadata": {},
     "output_type": "execute_result"
    }
   ],
   "source": [
    "soup"
   ]
  },
  {
   "cell_type": "code",
   "execution_count": 21,
   "metadata": {
    "scrolled": true
   },
   "outputs": [],
   "source": [
    "\n",
    "# Собираем список с реальными ссылками на главы книги\n",
    "i = 1\n",
    "chapter_link = []\n",
    "garbage = []\n",
    "for chapter in soup_links:\n",
    "    href_link_string = chapter.get('href')\n",
    "    chapter_last_link = href_link_string[18:] # вырезаем из текста \"/invincible-novel/chapter-3753.html\" крайнее значение \"hapter-3753.html\"\n",
    "    chapter_link.append(novel_link[:-5]+\"/\"+chapter_last_link)\n",
    "\n",
    "    garbage.append(href_link_string)\n",
    "\n",
    "# В общем случе раскоментить\n",
    "# Вырзем первые 6 ссылок из-за указания последних загруженных глав\n",
    "#chapter_link = chapter_link[6:]\n",
    "\n",
    "# Выгрузить последние главы\n",
    "chapter_link = chapter_link[-200:]"
   ]
  },
  {
   "cell_type": "code",
   "execution_count": null,
   "metadata": {},
   "outputs": [],
   "source": []
  },
  {
   "cell_type": "code",
   "execution_count": 23,
   "metadata": {
    "scrolled": true
   },
   "outputs": [
    {
     "data": {
      "text/plain": [
       "[]"
      ]
     },
     "execution_count": 23,
     "metadata": {},
     "output_type": "execute_result"
    }
   ],
   "source": [
    "chapter_link"
   ]
  },
  {
   "cell_type": "code",
   "execution_count": 411,
   "metadata": {
    "scrolled": true
   },
   "outputs": [
    {
     "name": "stdout",
     "output_type": "stream",
     "text": [
      "Progress: [####################] 99.5%\n",
      "Последняя глава:https://freewebnovel.com/invincible-novel/chapter-3753.html\n"
     ]
    }
   ],
   "source": [
    "# Проходимся по главам и достаем оттуда текст\n",
    "\n",
    "chapters = []\n",
    "chapters_ = []\n",
    "\n",
    "errors = []\n",
    "\n",
    "k = 0\n",
    "for iter_chapter in chapter_link:\n",
    "    time.sleep(1)\n",
    "    #print(iter_chapter)\n",
    "    \n",
    "    req_chapter_link = requests.get(iter_chapter)\n",
    "    chapter_html_text = req_chapter_link.text\n",
    "    chapter_soup = BeautifulSoup(chapter_html_text,'html.parser')    \n",
    "    chapter_soup_text = str(chapter_html_text)\n",
    "     \n",
    "    # вырезаю split-ом из-за того, что при \"find_all\" существеная часть текста пропадает\n",
    "    # Сразу чистим от </p>\n",
    "    chapter_soup_text = chapter_soup_text.replace(\"</p>\", \"\")\n",
    "    \n",
    "    chapter_soup_text = chapter_soup_text.replace(\"<strong><u>\", \"\")\n",
    "    chapter_soup_text = chapter_soup_text.replace(\"</u></strong> \", \"\")\n",
    "\n",
    "    chapter_soup_text = chapter_soup_text.replace(\"<h4>\", \"\")\n",
    "    chapter_soup_text = chapter_soup_text.replace(\"</h4>\", \"\")\n",
    "\n",
    "    chapter_soup_text = chapter_soup_text.replace(\"<b></b> \", \"\")\n",
    "\n",
    "    chapter_soup_text = chapter_soup_text.replace(\"</div>\", \"\")\n",
    "    \n",
    "    chapter_soup_text2 = chapter_soup_text.split(\"<div id=\\\"article\\\">\")\n",
    "    \n",
    "    if len(chapter_soup_text2)>1:\n",
    "        chapter_soup_text3 = chapter_soup_text2[1].split(\"<div class=\\\"notice-text\\\">\")\n",
    "        chapter_soup_text4 = chapter_soup_text3[0].split(\"<p>\")\n",
    "        ch_er = \"Выполнение главы:\" + iter_chapter\n",
    "        errors.append(ch_er)\n",
    "    else:\n",
    "        print(iter_chapter)\n",
    "        print(req_chapter_link)\n",
    "        chapter_soup_text3 = \"\"\n",
    "        chapter_soup_text4 = []\n",
    "        ch_er = \"!!! Проблемная глава:\" + iter_chapter\n",
    "        errors.append(ch_er)\n",
    "    \n",
    "\n",
    "    # вырезаем из строк типовое барахло \"A day passed. <div style=\"margin-top: 0px; margin-botto%\"\n",
    "    new_txt = []\n",
    "    for txt in chapter_soup_text4:\n",
    "        txt_ = txt.split(\"<div style\")\n",
    "\n",
    "        # убираем пустые значения из списка абзацев в главе\n",
    "        if txt_[0]!= \"\":\n",
    "                 if txt != \" \":\n",
    "                     new_txt.append(txt_[0])\n",
    "    \n",
    "    chapters.append(new_txt)\n",
    "    update_progress(k / len(chapter_link))\n",
    "    print(\"Последняя глава:\" + iter_chapter)\n",
    "    k=k+1\n",
    "\n"
   ]
  },
  {
   "cell_type": "code",
   "execution_count": null,
   "metadata": {},
   "outputs": [],
   "source": [
    "book = FictionBook2()\n",
    "\n",
    "title = 'INVINCIBLE'\n",
    "book.titleInfo.title = title\n",
    "book.documentInfo.version = \"1.1\"\n",
    "\n",
    "book.chapters = []\n",
    "\n",
    "for i in chapters:\n",
    "    book.chapters.append((i[0], i[1:]))\n",
    "\n",
    "book.write(title + \".fb2\")"
   ]
  },
  {
   "cell_type": "code",
   "execution_count": null,
   "metadata": {},
   "outputs": [],
   "source": []
  }
 ],
 "metadata": {
  "kernelspec": {
   "display_name": "Python 3 (ipykernel)",
   "language": "python",
   "name": "python3"
  },
  "language_info": {
   "codemirror_mode": {
    "name": "ipython",
    "version": 3
   },
   "file_extension": ".py",
   "mimetype": "text/x-python",
   "name": "python",
   "nbconvert_exporter": "python",
   "pygments_lexer": "ipython3",
   "version": "3.9.5"
  }
 },
 "nbformat": 4,
 "nbformat_minor": 4
}
